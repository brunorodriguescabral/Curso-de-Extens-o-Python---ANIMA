{
  "nbformat": 4,
  "nbformat_minor": 0,
  "metadata": {
    "colab": {
      "provenance": [],
      "authorship_tag": "ABX9TyNm44rSr2mDxIDoHcvsd/EQ",
      "include_colab_link": true
    },
    "kernelspec": {
      "name": "python3",
      "display_name": "Python 3"
    },
    "language_info": {
      "name": "python"
    }
  },
  "cells": [
    {
      "cell_type": "markdown",
      "metadata": {
        "id": "view-in-github",
        "colab_type": "text"
      },
      "source": [
        "<a href=\"https://colab.research.google.com/github/brunorodriguescabral/Curso-de-Extens-o-Python---ANIMA/blob/master/Aula_02.ipynb\" target=\"_parent\"><img src=\"https://colab.research.google.com/assets/colab-badge.svg\" alt=\"Open In Colab\"/></a>"
      ]
    },
    {
      "cell_type": "code",
      "execution_count": null,
      "metadata": {
        "colab": {
          "base_uri": "https://localhost:8080/"
        },
        "id": "rm6GABqaFRGI",
        "outputId": "7e848537-f7c6-4391-8416-e745365f0f5a"
      },
      "outputs": [
        {
          "output_type": "stream",
          "name": "stdout",
          "text": [
            "Não\n",
            "Sim\n",
            "Talvez\n",
            "Teste  testando testando testando testando testando  Teste\n",
            "[0, 1, 2, 3, 4, 5, 6, 7, 8, 9, 10, 11, 12, 13, 14, 15, 16, 17, 18, 19]\n",
            "teste [0, 1, 2, 3, 4, 5, 6, 7, 8, 9, 10, 11, 12, 13, 14, 15, 16, 17, 18, 19]\n",
            "teste [0, 1, 2, 3, 4, 5, 6, 7, 8, 9, 10, 11, 12, 13, 14, 15, 16, 17, 18, 19] teste 52\n",
            "1- teste\n",
            "2- teste\n",
            "3- teste\n"
          ]
        }
      ],
      "source": [
        "print('''Não\n",
        "Sim\n",
        "Talvez''')\n",
        "\n",
        "print(\"Teste \", 5*\"testando \", \"Teste\")\n",
        "\n",
        "a = list(range(20))\n",
        "\n",
        "print(a)\n",
        "\n",
        "print(f\"teste {a}\")\n",
        "print(\"teste {} teste {}\".format(a, 52))\n",
        "\n",
        "print('''1- teste\n",
        "2- teste\n",
        "3- teste''')"
      ]
    },
    {
      "cell_type": "code",
      "source": [
        "nome = input(\"Digite seu nome: \")\n",
        "idade = input(\"Digite sua idade: \")\n",
        "curso = input(\"Digite seu curso: \")\n",
        "\n",
        "a = {\n",
        "    \"nome\": nome,\n",
        "    \"idade\": idade,\n",
        "    \"curso\": curso\n",
        "}\n",
        "\n",
        "print(f'''\n",
        "Nome: {a.get(\"nome\")}\n",
        "Idade: {a.get(\"idade\")}\n",
        "Curso: {a.get(\"curso\")}\n",
        "''')\n",
        "\n",
        "print(a)"
      ],
      "metadata": {
        "colab": {
          "base_uri": "https://localhost:8080/"
        },
        "id": "uLdO4UM1FRmI",
        "outputId": "08d60549-0933-4f6b-89ef-f30759118f89"
      },
      "execution_count": null,
      "outputs": [
        {
          "output_type": "stream",
          "name": "stdout",
          "text": [
            "Digite seu nome: Bruno\n",
            "Digite sua idade: 18\n",
            "Digite seu curso: Engenharia Civil\n",
            "\n",
            "Nome: Bruno\n",
            "Idade: 18\n",
            "Curso: Engenharia Civil\n",
            "\n",
            "{'nome': 'Bruno', 'idade': '18', 'curso': 'Engenharia Civil'}\n"
          ]
        }
      ]
    },
    {
      "cell_type": "code",
      "source": [
        " # Velocidade de m/s para km/h\n",
        " # Utilize ponto no lugar de virgula\n",
        "\n",
        "v = float(input(\"Digite a velocidade em m/s \"))\n",
        "v = v*3.6\n",
        "print(v)\n"
      ],
      "metadata": {
        "colab": {
          "base_uri": "https://localhost:8080/"
        },
        "id": "QbJ2Sp6dGCCP",
        "outputId": "d91477d0-8742-4688-c139-2612d05fb95b"
      },
      "execution_count": null,
      "outputs": [
        {
          "output_type": "stream",
          "name": "stdout",
          "text": [
            "Digite a velocidade em m/s12\n",
            "43.2\n"
          ]
        }
      ]
    },
    {
      "cell_type": "code",
      "source": [
        "from math import pi\n",
        "\n",
        "raio = float(input(\"Digite o raio da circunferência: \"))\n",
        "comprimento = 2 * raio * pi\n",
        "print(f\"O comprimento do raio é de: {comprimento:.2f}\")"
      ],
      "metadata": {
        "colab": {
          "base_uri": "https://localhost:8080/"
        },
        "id": "IdtgXz3vLlrg",
        "outputId": "edadeb05-5c47-4939-f5ff-2ada5498683e"
      },
      "execution_count": null,
      "outputs": [
        {
          "output_type": "stream",
          "name": "stdout",
          "text": [
            "Digite o raio da circunferência: 25\n",
            "O comprimento do raio é de: 157.08\n"
          ]
        }
      ]
    },
    {
      "cell_type": "code",
      "source": [
        "import datetime\n",
        "# Declaração da variável\n",
        "year = int(input(\"Introduza seu ano de nascimento: \"))\n",
        "actualYear = datetime.datetime.now()\n",
        "actualYear = (actualYear.year)\n",
        "# Calcular aniversário\n",
        "age = actualYear - year\n",
        "nextAge = age + 1\n",
        "# Imprimir na tela o aniversário\n",
        "print(f\"Você nasceu no ano de {year} atualmente em {actualYear} tem {age} anos e ano que vem terá {nextAge} anos!\" )"
      ],
      "metadata": {
        "colab": {
          "base_uri": "https://localhost:8080/"
        },
        "id": "6LYvQUQvUj0H",
        "outputId": "ee8b4618-cab3-438a-cfb5-340d8a89db4d"
      },
      "execution_count": null,
      "outputs": [
        {
          "output_type": "stream",
          "name": "stdout",
          "text": [
            "Introduza seu ano de nascimento: 2004\n",
            "Você nasceu no ano de 2004 atualmente em 2023 tem 19 anos e ano que vem terá 20 anos!\n"
          ]
        }
      ]
    },
    {
      "cell_type": "code",
      "source": [
        "print(\"|   A\\t|   B\\t| SAÍDA |\")\n",
        "print(\"|\",False,\"|\",False,\"|\",False and False,\"|\")\n",
        "print(\"|\",True,\"\\t|\",False,\"|\",True and False,\"|\")\n",
        "print(\"|\",False,\"|\",True,\"\\t|\",False and True,\"|\")\n",
        "print(\"|\",True,\"\\t|\",True,\"\\t|\",True and True,\"\\t|\")"
      ],
      "metadata": {
        "id": "9gTVIgQxYwW5",
        "outputId": "b18bf341-224c-45c3-8ae0-c9853945b0f2",
        "colab": {
          "base_uri": "https://localhost:8080/"
        }
      },
      "execution_count": null,
      "outputs": [
        {
          "output_type": "stream",
          "name": "stdout",
          "text": [
            "|   A\t|   B\t| SAÍDA |\n",
            "| False | False | False |\n",
            "| True \t| False | False |\n",
            "| False | True \t| False |\n",
            "| True \t| True \t| True \t|\n"
          ]
        }
      ]
    },
    {
      "cell_type": "code",
      "source": [
        "total = 0\n",
        "\n",
        "print(\"\"\" ****** PRATOS SALGADOS *******\n",
        "    1 - Hamburguer - R$ 15,00\n",
        "    2 - Dogão - R$ 10,00\n",
        "    3 - Pizza - R$ 70,00\n",
        "    4 - Esfiha - R$ 5,00\n",
        "\"\"\")\n",
        "pedido = input(\"Qual o seu pedido: \")\n",
        "\n",
        "if pedido == \"1\":\n",
        "    print(\"Você selecionou Hamburguer\")\n",
        "    total += 15 # 0 + 15 = 15\n",
        "elif pedido == \"2\":\n",
        "    print(\"Você selecionou Dogão\")\n",
        "    total = total + 10\n",
        "elif pedido == \"3\":\n",
        "    print(\"Você selecionou Pizza\")\n",
        "    total = total + 70\n",
        "elif pedido == \"4\":\n",
        "    print(\"Você selecionou Esfiha\")\n",
        "    total = total + 5\n",
        "else:\n",
        "    print(\"Opção inválida\")\n",
        "\n",
        "print(\"\"\" ****** PRATOS DOCES *******\n",
        "    1 - Musse de limão - R$ 10,00\n",
        "    2 - Torta de chocolate - $ 25,00\n",
        "    3 - Bolo de Nutella - R$ 35,00\n",
        "    4 - Sorvete - R$ 13,00\n",
        "\"\"\")\n",
        "pedido = input(\"Qual o seu pedido: \")\n",
        "\n",
        "if pedido == \"1\":\n",
        "    print(\"Você selecionou Musse de limão\")\n",
        "    total = total + 10 #pedido = 15 + 10 => pedido = 25\n",
        "elif pedido == \"2\":\n",
        "    print(\"Você selecionou Torta de chocolate\")\n",
        "    total = total + 25\n",
        "elif pedido == \"3\":\n",
        "    print(\"Você selecionou Bolo de Nutella\")\n",
        "    total = total + 35\n",
        "elif pedido == \"4\":\n",
        "    print(\"Você selecionou Sorvete\")\n",
        "    total = total + 13\n",
        "else:\n",
        "    print(\"Opção inválida\")\n",
        "\n",
        "\n",
        "print(\"\"\" ****** PRATOS BEBIDAS *******\n",
        "    1 - Suco - R$ 10,00\n",
        "    2 - Água - R$ 5,00\n",
        "    3 - CERVEJA, POR FAVOR - R$ 10,00\n",
        "    4 - Refri - R$ 55,00\n",
        "\"\"\")\n",
        "pedido = input(\"Qual o seu pedido: \")\n",
        "\n",
        "if pedido == \"1\":\n",
        "    print(\"Você selecionou Suco\")\n",
        "    total = total + 10 # pedido = 25 + 10 => pedido = 35\n",
        "elif pedido == \"2\":\n",
        "    print(\"Você selecionou Água\")\n",
        "    total = total + 5\n",
        "elif pedido == \"3\":\n",
        "    print(\"Você selecionou LÍQUIDO SANTO DA VIDA\")\n",
        "    total = total + 10\n",
        "elif pedido == \"4\":\n",
        "    print(\"Você selecionou Refri\")\n",
        "    total = total + 55\n",
        "else:\n",
        "    print(\"Opção inválida\")\n",
        "\n",
        "print('Seu pedido foi de R$ {:.2f}'.format(total)) #Seu pedido foi de R$ 35,00"
      ],
      "metadata": {
        "colab": {
          "base_uri": "https://localhost:8080/"
        },
        "id": "ki0a8MK6S5VI",
        "outputId": "77620bc1-d34e-47d0-a5d7-78cc887e6e78"
      },
      "execution_count": null,
      "outputs": [
        {
          "output_type": "stream",
          "name": "stdout",
          "text": [
            " ****** PRATOS SALGADOS *******\n",
            "    1 - Hamburguer - R$ 15,00\n",
            "    2 - Dogão - R$ 10,00\n",
            "    3 - Pizza - R$ 70,00\n",
            "    4 - Esfiha - R$ 5,00\n",
            "\n",
            "Qual o seu pedido: 3\n",
            "Você selecionou Pizza\n",
            " ****** PRATOS DOCES *******\n",
            "    1 - Musse de limão - R$ 10,00\n",
            "    2 - Torta de chocolate - $ 25,00\n",
            "    3 - Bolo de Nutella - R$ 35,00\n",
            "    4 - Sorvete - R$ 13,00\n",
            "\n",
            "Qual o seu pedido: 3\n",
            "Você selecionou Bolo de Nutella\n",
            " ****** PRATOS BEBIDAS *******\n",
            "    1 - Suco - R$ 10,00\n",
            "    2 - Água - R$ 5,00\n",
            "    3 - CERVEJA, POR FAVOR - R$ 10,00\n",
            "    4 - Refri - R$ 55,00\n",
            "\n",
            "Qual o seu pedido: 4\n",
            "Você selecionou Refri\n",
            "Seu pedido foi de R$ 160.00\n"
          ]
        }
      ]
    },
    {
      "cell_type": "code",
      "source": [
        "# Declarar a entrada da Altura\n",
        "altura = float(input(\"Informe sua altura: \"))\n",
        "# Declarar a entrada do Peso\n",
        "peso = float(input('Informe seu peso'))\n",
        "# Declarar a entrada do Sexo Biológico\n",
        "sexo = input('M - Masculine e F - Feminine: ').casefold()\n",
        "# Declaração de if para calcular peso ideal\n",
        "if sexo == \"m\":\n",
        "    peso_ideal = 72.7 * altura - 50\n",
        "# Declaração de elif para calcular peso ideal\n",
        "elif sexo == 'f':\n",
        "    peso_ideal = 62.1 * altura - 44.7\n",
        "# Declaração else\n",
        "else:\n",
        "    print(\"ERRRROOOOUUUUU\")\n",
        "# Calcular diferença entre peso ideal e peso atual\n",
        "diferenca = peso - peso_ideal\n",
        "# Declaração de if para acima do peso - A devolutiva para o usuário vem dentro do if\n",
        "if diferenca > 0:\n",
        "    print(\"Você está acima do peso ideal, vamos malhar essa barriga\")\n",
        "# Declaração de elif para abaixo do peso - A devolutiva para o usuário vem dentro do elif\n",
        "elif diferenca < 0:\n",
        "    print(\"Muito bem, tá magrinho... Vai comer alguma coisa\")\n",
        "# Declaração de else - A devolutiva para o usuário vem dentro do else\n",
        "else:\n",
        "    print(\"Parabéns, você conseguiu ficar no peso certo\")"
      ],
      "metadata": {
        "id": "Y7ZN99nzZSzu"
      },
      "execution_count": null,
      "outputs": []
    },
    {
      "cell_type": "code",
      "source": [
        "from random import randint\n",
        "\n",
        "qtd_litros = randint(1,52)\n",
        "gas_value = 5.50\n",
        "alc_value = 4.80\n",
        "\n",
        "tipo = input('Informe \"A\" - álcool ou \"G\" - gasolina:\\n').casefold()\n",
        "print('------------------------------------')\n",
        "\n",
        "if tipo == \"a\":\n",
        "    print(\"Você abasteceu seu automóvel com {} litros de {}\".format(qtd_litros, tipo))\n",
        "    if qtd_litros <= 20:\n",
        "        total = qtd_litros * alc_value * (1 - 0.03)\n",
        "        print('Total a pagar de R$ {:.2f}'.format(total))\n",
        "    else:\n",
        "        total = qtd_litros * alc_value * (1 - 0.05)\n",
        "        print('Total a pagar de R$ {:.2f}'.format(total))\n",
        "elif tipo == \"g\":\n",
        "    print(\"Você abasteceu seu automóvel com {} litros de {}\".format(qtd_litros, tipo))\n",
        "    if qtd_litros <= 20:\n",
        "        total = qtd_litros * gas_value * (1 - 0.04)\n",
        "        print('Total a pagar de R$ {:.2f}'.format(total))\n",
        "    else:\n",
        "        total = qtd_litros * gas_value * (1 - 0.06)\n",
        "        print('Total a pagar de R$ {:.2f}'.format(total))\n",
        "else:\n",
        "    print(\"opção inválida\")"
      ],
      "metadata": {
        "colab": {
          "base_uri": "https://localhost:8080/"
        },
        "id": "zWsFa1V_o9wb",
        "outputId": "98f27523-7659-4f8e-8713-8b508f3ee549"
      },
      "execution_count": null,
      "outputs": [
        {
          "output_type": "stream",
          "name": "stdout",
          "text": [
            "Informe \"A\" - álcool ou \"G\" - gasolina:\n",
            "A\n",
            "------------------------------------\n",
            "Você abasteceu seu automóvel com 36 litros de a\n",
            "Total a pagar de R$ 164.16\n"
          ]
        }
      ]
    }
  ]
}